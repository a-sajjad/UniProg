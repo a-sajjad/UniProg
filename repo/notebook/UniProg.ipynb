{
 "cells": [
  {
   "cell_type": "code",
   "execution_count": 1,
   "id": "d720aa58-431b-4cc3-81f4-ef94c91fa23e",
   "metadata": {},
   "outputs": [],
   "source": [
    "course_columns = ['id', 'name', 'category', 'credits', 'taken', 'grade']"
   ]
  },
  {
   "cell_type": "code",
   "execution_count": 2,
   "id": "faadf10f-bebe-4e71-a9df-3dd6d60c0fac",
   "metadata": {},
   "outputs": [],
   "source": [
    "course_data = ['ITC 315', 'Software Engineering', 'Concentration', 3, 'True', 'A']"
   ]
  },
  {
   "cell_type": "code",
   "execution_count": 3,
   "id": "d9c0228d-a876-4381-aba6-a9641bacf564",
   "metadata": {},
   "outputs": [],
   "source": [
    "degreeplan_columns = ['major', 'year', 'conc', 'credits', 'courses', 'gen_credits', 'core_credits', 'conc_credits']"
   ]
  },
  {
   "cell_type": "code",
   "execution_count": 4,
   "id": "25aed9d5-abdc-4aba-99f6-844e1f136f04",
   "metadata": {},
   "outputs": [],
   "source": [
    "degreeplan_data = ['Information Technology', '2018', 'Software Engineering', 120, 40, 60, 51, 9]"
   ]
  },
  {
   "cell_type": "code",
   "execution_count": 5,
   "id": "718d0ef2-6588-4f9d-98de-c69880c002e6",
   "metadata": {},
   "outputs": [],
   "source": [
    "student_columns = ['id', 'name', 'lastname', 'email', 'username', 'password', 'advisor', 'advisor_email']"
   ]
  },
  {
   "cell_type": "code",
   "execution_count": 6,
   "id": "c2a70ebf-58f4-4d52-bdae-a12643c4d3a9",
   "metadata": {},
   "outputs": [],
   "source": [
    "student_data = [ 38786, 'Rahmat', 'Azad', 'me@gmail.com', 'rhmtazad', 'eyePatch', 'Dr. Ala', 'ala@gmail.com']"
   ]
  },
  {
   "cell_type": "code",
   "execution_count": 7,
   "id": "1305c963-0103-419e-b8b3-ca5314806cab",
   "metadata": {},
   "outputs": [],
   "source": [
    "import pandas as pd\n",
    "from dataclasses import dataclass, field\n",
    "\n",
    "\n",
    "@dataclass(order=True)\n",
    "class CSVFile:\n",
    "    index: str\n",
    "    file: str\n",
    "    columns: list[str] = field(default_factory=list)\n",
    "        \n",
    "    def __post_init__(self):\n",
    "        self.save(self.columns_df)\n",
    "\n",
    "    @property\n",
    "    def columns_df(self):\n",
    "        return pd.DataFrame(columns=self.columns).set_index(self.index)\n",
    "\n",
    "    def data_df(self, data):\n",
    "        return pd.DataFrame([data], columns=self.columns).set_index(self.index)\n",
    "\n",
    "    def read(self):\n",
    "        return pd.read_csv(f'{self.file}.csv', index_col=self.index)\n",
    "\n",
    "    def save(self, indexed_df):\n",
    "        indexed_df.to_csv(f'{self.file}.csv')\n",
    "\n",
    "    def insert(self, data):\n",
    "        self.save(self.read().append(self.data_df(data)))\n"
   ]
  },
  {
   "cell_type": "code",
   "execution_count": 8,
   "id": "4e940b2e-96ab-46c1-a951-c69914046fe4",
   "metadata": {},
   "outputs": [],
   "source": [
    "courses_csv = CSVFile(columns=course_columns, index='id', file='courses')"
   ]
  },
  {
   "cell_type": "code",
   "execution_count": 9,
   "id": "aba494f9-ecb2-466a-8e2b-b14b2588b392",
   "metadata": {},
   "outputs": [],
   "source": [
    "courses = pd.DataFrame(courses_csv.read(), columns=courses_csv.columns).set_index(courses_csv.index)"
   ]
  },
  {
   "cell_type": "code",
   "execution_count": 10,
   "id": "13d3e090-20b4-41a2-a93e-c8b2070e5c27",
   "metadata": {},
   "outputs": [
    {
     "data": {
      "text/html": [
       "<div>\n",
       "<style scoped>\n",
       "    .dataframe tbody tr th:only-of-type {\n",
       "        vertical-align: middle;\n",
       "    }\n",
       "\n",
       "    .dataframe tbody tr th {\n",
       "        vertical-align: top;\n",
       "    }\n",
       "\n",
       "    .dataframe thead th {\n",
       "        text-align: right;\n",
       "    }\n",
       "</style>\n",
       "<table border=\"1\" class=\"dataframe\">\n",
       "  <thead>\n",
       "    <tr style=\"text-align: right;\">\n",
       "      <th></th>\n",
       "      <th>name</th>\n",
       "      <th>category</th>\n",
       "      <th>credits</th>\n",
       "      <th>taken</th>\n",
       "      <th>grade</th>\n",
       "    </tr>\n",
       "    <tr>\n",
       "      <th>id</th>\n",
       "      <th></th>\n",
       "      <th></th>\n",
       "      <th></th>\n",
       "      <th></th>\n",
       "      <th></th>\n",
       "    </tr>\n",
       "  </thead>\n",
       "  <tbody>\n",
       "  </tbody>\n",
       "</table>\n",
       "</div>"
      ],
      "text/plain": [
       "Empty DataFrame\n",
       "Columns: [name, category, credits, taken, grade]\n",
       "Index: []"
      ]
     },
     "execution_count": 10,
     "metadata": {},
     "output_type": "execute_result"
    }
   ],
   "source": [
    "courses"
   ]
  },
  {
   "cell_type": "code",
   "execution_count": 11,
   "id": "ab6593b0-5d55-4194-8cf9-060fba173d05",
   "metadata": {},
   "outputs": [],
   "source": [
    "degreeplan_csv = CSVFile(columns=degreeplan_columns, index='major', file='degreeplan')"
   ]
  },
  {
   "cell_type": "code",
   "execution_count": 12,
   "id": "808ebc0d-7f81-434e-81ab-023ffe257aef",
   "metadata": {},
   "outputs": [],
   "source": [
    "degreeplan = pd.DataFrame(degreeplan_csv.read(), columns=degreeplan_csv.columns).set_index(degreeplan_csv.index)"
   ]
  },
  {
   "cell_type": "code",
   "execution_count": 13,
   "id": "8bff3636-5f2f-415f-83a1-caff8e37e543",
   "metadata": {},
   "outputs": [
    {
     "data": {
      "text/html": [
       "<div>\n",
       "<style scoped>\n",
       "    .dataframe tbody tr th:only-of-type {\n",
       "        vertical-align: middle;\n",
       "    }\n",
       "\n",
       "    .dataframe tbody tr th {\n",
       "        vertical-align: top;\n",
       "    }\n",
       "\n",
       "    .dataframe thead th {\n",
       "        text-align: right;\n",
       "    }\n",
       "</style>\n",
       "<table border=\"1\" class=\"dataframe\">\n",
       "  <thead>\n",
       "    <tr style=\"text-align: right;\">\n",
       "      <th></th>\n",
       "      <th>year</th>\n",
       "      <th>conc</th>\n",
       "      <th>credits</th>\n",
       "      <th>courses</th>\n",
       "      <th>gen_credits</th>\n",
       "      <th>core_credits</th>\n",
       "      <th>conc_credits</th>\n",
       "    </tr>\n",
       "    <tr>\n",
       "      <th>major</th>\n",
       "      <th></th>\n",
       "      <th></th>\n",
       "      <th></th>\n",
       "      <th></th>\n",
       "      <th></th>\n",
       "      <th></th>\n",
       "      <th></th>\n",
       "    </tr>\n",
       "  </thead>\n",
       "  <tbody>\n",
       "  </tbody>\n",
       "</table>\n",
       "</div>"
      ],
      "text/plain": [
       "Empty DataFrame\n",
       "Columns: [year, conc, credits, courses, gen_credits, core_credits, conc_credits]\n",
       "Index: []"
      ]
     },
     "execution_count": 13,
     "metadata": {},
     "output_type": "execute_result"
    }
   ],
   "source": [
    "degreeplan"
   ]
  },
  {
   "cell_type": "code",
   "execution_count": 14,
   "id": "b324b975-cdc2-4f98-9c63-f886233941b9",
   "metadata": {},
   "outputs": [],
   "source": [
    "student_csv = CSVFile(columns=student_columns, index='id', file='student')"
   ]
  },
  {
   "cell_type": "code",
   "execution_count": 15,
   "id": "bf13e1d5-1967-45d5-8e15-c07f1df1aa1c",
   "metadata": {},
   "outputs": [],
   "source": [
    "student = pd.DataFrame(student_csv.read(), columns=student_csv.columns).set_index(student_csv.index)"
   ]
  },
  {
   "cell_type": "code",
   "execution_count": 16,
   "id": "10316d8b-9de2-4b31-9860-b333c8f4118a",
   "metadata": {},
   "outputs": [
    {
     "data": {
      "text/html": [
       "<div>\n",
       "<style scoped>\n",
       "    .dataframe tbody tr th:only-of-type {\n",
       "        vertical-align: middle;\n",
       "    }\n",
       "\n",
       "    .dataframe tbody tr th {\n",
       "        vertical-align: top;\n",
       "    }\n",
       "\n",
       "    .dataframe thead th {\n",
       "        text-align: right;\n",
       "    }\n",
       "</style>\n",
       "<table border=\"1\" class=\"dataframe\">\n",
       "  <thead>\n",
       "    <tr style=\"text-align: right;\">\n",
       "      <th></th>\n",
       "      <th>name</th>\n",
       "      <th>lastname</th>\n",
       "      <th>email</th>\n",
       "      <th>username</th>\n",
       "      <th>password</th>\n",
       "      <th>advisor</th>\n",
       "      <th>advisor_email</th>\n",
       "    </tr>\n",
       "    <tr>\n",
       "      <th>id</th>\n",
       "      <th></th>\n",
       "      <th></th>\n",
       "      <th></th>\n",
       "      <th></th>\n",
       "      <th></th>\n",
       "      <th></th>\n",
       "      <th></th>\n",
       "    </tr>\n",
       "  </thead>\n",
       "  <tbody>\n",
       "  </tbody>\n",
       "</table>\n",
       "</div>"
      ],
      "text/plain": [
       "Empty DataFrame\n",
       "Columns: [name, lastname, email, username, password, advisor, advisor_email]\n",
       "Index: []"
      ]
     },
     "execution_count": 16,
     "metadata": {},
     "output_type": "execute_result"
    }
   ],
   "source": [
    "student"
   ]
  }
 ],
 "metadata": {
  "kernelspec": {
   "display_name": "Python 3",
   "language": "python",
   "name": "python3"
  },
  "language_info": {
   "codemirror_mode": {
    "name": "ipython",
    "version": 3
   },
   "file_extension": ".py",
   "mimetype": "text/x-python",
   "name": "python",
   "nbconvert_exporter": "python",
   "pygments_lexer": "ipython3",
   "version": "3.9.4"
  },
  "toc": {
   "base_numbering": 1,
   "nav_menu": {},
   "number_sections": true,
   "sideBar": true,
   "skip_h1_title": false,
   "title_cell": "Table of Contents",
   "title_sidebar": "Contents",
   "toc_cell": false,
   "toc_position": {},
   "toc_section_display": true,
   "toc_window_display": false
  }
 },
 "nbformat": 4,
 "nbformat_minor": 5
}
