{
 "cells": [
  {
   "cell_type": "code",
   "execution_count": 1,
   "id": "55813696-1a64-4d7b-b10e-7221f956d85c",
   "metadata": {},
   "outputs": [],
   "source": [
    "import pandas as pd"
   ]
  },
  {
   "cell_type": "code",
   "execution_count": 2,
   "id": "d720aa58-431b-4cc3-81f4-ef94c91fa23e",
   "metadata": {},
   "outputs": [],
   "source": [
    "course_columns = [\n",
    "    'id',\n",
    "    'name',\n",
    "    'category',\n",
    "    'credits',\n",
    "    'taken',\n",
    "    'grade'\n",
    "]\n",
    "\n",
    "course_data = [\n",
    "    'ITC 315',\n",
    "    'Software Engineering',\n",
    "    'Concentration',\n",
    "    3,\n",
    "    'True',\n",
    "    'A'\n",
    "]"
   ]
  },
  {
   "cell_type": "code",
   "execution_count": 3,
   "id": "d9c0228d-a876-4381-aba6-a9641bacf564",
   "metadata": {},
   "outputs": [],
   "source": [
    "degreeplan_columns = [\n",
    "    'major',\n",
    "    'year',\n",
    "    'concentration',\n",
    "    'total_credits',\n",
    "    'total_courses',\n",
    "    'general_credits',\n",
    "    'core_credits',\n",
    "    'concentration_credits'\n",
    "]\n",
    "\n",
    "degreeplan_data = [\n",
    "    'Information Technology',\n",
    "    '2018',\n",
    "    'Software Engineering',\n",
    "    120, 40, 60, 51, 9\n",
    "]"
   ]
  },
  {
   "cell_type": "code",
   "execution_count": 4,
   "id": "718d0ef2-6588-4f9d-98de-c69880c002e6",
   "metadata": {},
   "outputs": [],
   "source": [
    "student_columns = [\n",
    "    'id',\n",
    "    'name',\n",
    "    'lastname',\n",
    "    'email',\n",
    "    'username',\n",
    "    'password',\n",
    "    'advisor',\n",
    "    'advisor_email'\n",
    "]\n",
    "\n",
    "student_data = [\n",
    "    38786,\n",
    "    'Rahmat',\n",
    "    'Azad',\n",
    "    'rahmat.azad@auaf.edu.af',\n",
    "    'rhmtazad',\n",
    "    'eyePatch17',\n",
    "    'Dr. Ala Abdulhakim Abdulaziz',\n",
    "    'ala@auaf.edu.af'\n",
    "]"
   ]
  },
  {
   "cell_type": "code",
   "execution_count": 5,
   "id": "1305c963-0103-419e-b8b3-ca5314806cab",
   "metadata": {},
   "outputs": [],
   "source": [
    "class UniProgCSV:\n",
    "    def __init__(self, columns, index, file):\n",
    "        self.columns = columns\n",
    "        self.index = index\n",
    "        self.file = file\n",
    "\n",
    "    @property\n",
    "    def columns_df(self):\n",
    "        return pd.DataFrame(columns=self.columns).set_index(self.index)\n",
    "\n",
    "    def data_df(self, data):\n",
    "        return pd.DataFrame([data], columns=self.columns).set_index(self.index)\n",
    "\n",
    "    def read(self):\n",
    "        try:\n",
    "            return pd.read_csv(f'{self.file}.csv', index_col=self.index)\n",
    "        except FileNotFoundError:\n",
    "            self.save(self.columns_df)\n",
    "            return pd.read_csv(f'{self.file}.csv', index_col=self.index)\n",
    "\n",
    "    def save(self, indexed_df):\n",
    "        indexed_df.to_csv(f'{self.file}.csv')\n",
    "\n",
    "    def append(self, data):\n",
    "        self.save(self.read().append(self.data_df(data)))"
   ]
  },
  {
   "cell_type": "code",
   "execution_count": 6,
   "id": "4e940b2e-96ab-46c1-a951-c69914046fe4",
   "metadata": {},
   "outputs": [],
   "source": [
    "courses = UniProgCSV(columns=course_columns, index='id', file='courses')"
   ]
  },
  {
   "cell_type": "code",
   "execution_count": 7,
   "id": "f96d7546-540b-4eb9-9b4f-99f9a073bb63",
   "metadata": {},
   "outputs": [
    {
     "data": {
      "text/plain": [
       "['id', 'name', 'category', 'credits', 'taken', 'grade']"
      ]
     },
     "execution_count": 7,
     "metadata": {},
     "output_type": "execute_result"
    }
   ],
   "source": [
    "courses.columns"
   ]
  },
  {
   "cell_type": "code",
   "execution_count": 8,
   "id": "a9a44eaf-f382-40e8-aad0-5056240d8f30",
   "metadata": {},
   "outputs": [
    {
     "data": {
      "text/html": [
       "<div>\n",
       "<style scoped>\n",
       "    .dataframe tbody tr th:only-of-type {\n",
       "        vertical-align: middle;\n",
       "    }\n",
       "\n",
       "    .dataframe tbody tr th {\n",
       "        vertical-align: top;\n",
       "    }\n",
       "\n",
       "    .dataframe thead th {\n",
       "        text-align: right;\n",
       "    }\n",
       "</style>\n",
       "<table border=\"1\" class=\"dataframe\">\n",
       "  <thead>\n",
       "    <tr style=\"text-align: right;\">\n",
       "      <th></th>\n",
       "      <th>name</th>\n",
       "      <th>category</th>\n",
       "      <th>credits</th>\n",
       "      <th>taken</th>\n",
       "      <th>grade</th>\n",
       "    </tr>\n",
       "    <tr>\n",
       "      <th>id</th>\n",
       "      <th></th>\n",
       "      <th></th>\n",
       "      <th></th>\n",
       "      <th></th>\n",
       "      <th></th>\n",
       "    </tr>\n",
       "  </thead>\n",
       "  <tbody>\n",
       "  </tbody>\n",
       "</table>\n",
       "</div>"
      ],
      "text/plain": [
       "Empty DataFrame\n",
       "Columns: [name, category, credits, taken, grade]\n",
       "Index: []"
      ]
     },
     "execution_count": 8,
     "metadata": {},
     "output_type": "execute_result"
    }
   ],
   "source": [
    "courses.columns_df"
   ]
  },
  {
   "cell_type": "code",
   "execution_count": 9,
   "id": "c52fef9e-6609-4dd3-800b-a674f04afeb7",
   "metadata": {},
   "outputs": [
    {
     "data": {
      "text/html": [
       "<div>\n",
       "<style scoped>\n",
       "    .dataframe tbody tr th:only-of-type {\n",
       "        vertical-align: middle;\n",
       "    }\n",
       "\n",
       "    .dataframe tbody tr th {\n",
       "        vertical-align: top;\n",
       "    }\n",
       "\n",
       "    .dataframe thead th {\n",
       "        text-align: right;\n",
       "    }\n",
       "</style>\n",
       "<table border=\"1\" class=\"dataframe\">\n",
       "  <thead>\n",
       "    <tr style=\"text-align: right;\">\n",
       "      <th></th>\n",
       "      <th>name</th>\n",
       "      <th>category</th>\n",
       "      <th>credits</th>\n",
       "      <th>taken</th>\n",
       "      <th>grade</th>\n",
       "    </tr>\n",
       "    <tr>\n",
       "      <th>id</th>\n",
       "      <th></th>\n",
       "      <th></th>\n",
       "      <th></th>\n",
       "      <th></th>\n",
       "      <th></th>\n",
       "    </tr>\n",
       "  </thead>\n",
       "  <tbody>\n",
       "    <tr>\n",
       "      <th>ITC 315</th>\n",
       "      <td>Software Engineering</td>\n",
       "      <td>Concentration</td>\n",
       "      <td>3</td>\n",
       "      <td>True</td>\n",
       "      <td>B+</td>\n",
       "    </tr>\n",
       "    <tr>\n",
       "      <th>ITC 315</th>\n",
       "      <td>Software Engineering</td>\n",
       "      <td>Concentration</td>\n",
       "      <td>3</td>\n",
       "      <td>True</td>\n",
       "      <td>A</td>\n",
       "    </tr>\n",
       "  </tbody>\n",
       "</table>\n",
       "</div>"
      ],
      "text/plain": [
       "                         name       category  credits  taken grade\n",
       "id                                                                \n",
       "ITC 315  Software Engineering  Concentration        3   True    B+\n",
       "ITC 315  Software Engineering  Concentration        3   True     A"
      ]
     },
     "execution_count": 9,
     "metadata": {},
     "output_type": "execute_result"
    }
   ],
   "source": [
    "courses.read()"
   ]
  },
  {
   "cell_type": "code",
   "execution_count": 10,
   "id": "61ab85f6-0f33-4b84-92d1-262f5d4f9359",
   "metadata": {},
   "outputs": [],
   "source": [
    "courses.append(course_data)"
   ]
  },
  {
   "cell_type": "code",
   "execution_count": 11,
   "id": "12c135c1-0924-4b57-86f2-c52f76cb0439",
   "metadata": {},
   "outputs": [
    {
     "data": {
      "text/html": [
       "<div>\n",
       "<style scoped>\n",
       "    .dataframe tbody tr th:only-of-type {\n",
       "        vertical-align: middle;\n",
       "    }\n",
       "\n",
       "    .dataframe tbody tr th {\n",
       "        vertical-align: top;\n",
       "    }\n",
       "\n",
       "    .dataframe thead th {\n",
       "        text-align: right;\n",
       "    }\n",
       "</style>\n",
       "<table border=\"1\" class=\"dataframe\">\n",
       "  <thead>\n",
       "    <tr style=\"text-align: right;\">\n",
       "      <th></th>\n",
       "      <th>name</th>\n",
       "      <th>category</th>\n",
       "      <th>credits</th>\n",
       "      <th>taken</th>\n",
       "      <th>grade</th>\n",
       "    </tr>\n",
       "    <tr>\n",
       "      <th>id</th>\n",
       "      <th></th>\n",
       "      <th></th>\n",
       "      <th></th>\n",
       "      <th></th>\n",
       "      <th></th>\n",
       "    </tr>\n",
       "  </thead>\n",
       "  <tbody>\n",
       "    <tr>\n",
       "      <th>ITC 315</th>\n",
       "      <td>Software Engineering</td>\n",
       "      <td>Concentration</td>\n",
       "      <td>3</td>\n",
       "      <td>True</td>\n",
       "      <td>B+</td>\n",
       "    </tr>\n",
       "    <tr>\n",
       "      <th>ITC 315</th>\n",
       "      <td>Software Engineering</td>\n",
       "      <td>Concentration</td>\n",
       "      <td>3</td>\n",
       "      <td>True</td>\n",
       "      <td>A</td>\n",
       "    </tr>\n",
       "    <tr>\n",
       "      <th>ITC 315</th>\n",
       "      <td>Software Engineering</td>\n",
       "      <td>Concentration</td>\n",
       "      <td>3</td>\n",
       "      <td>True</td>\n",
       "      <td>A</td>\n",
       "    </tr>\n",
       "  </tbody>\n",
       "</table>\n",
       "</div>"
      ],
      "text/plain": [
       "                         name       category  credits  taken grade\n",
       "id                                                                \n",
       "ITC 315  Software Engineering  Concentration        3   True    B+\n",
       "ITC 315  Software Engineering  Concentration        3   True     A\n",
       "ITC 315  Software Engineering  Concentration        3   True     A"
      ]
     },
     "execution_count": 11,
     "metadata": {},
     "output_type": "execute_result"
    }
   ],
   "source": [
    "courses.read()"
   ]
  }
 ],
 "metadata": {
  "kernelspec": {
   "display_name": "Python 3",
   "language": "python",
   "name": "python3"
  },
  "language_info": {
   "codemirror_mode": {
    "name": "ipython",
    "version": 3
   },
   "file_extension": ".py",
   "mimetype": "text/x-python",
   "name": "python",
   "nbconvert_exporter": "python",
   "pygments_lexer": "ipython3",
   "version": "3.9.4"
  },
  "toc": {
   "base_numbering": 1,
   "nav_menu": {},
   "number_sections": true,
   "sideBar": true,
   "skip_h1_title": false,
   "title_cell": "Table of Contents",
   "title_sidebar": "Contents",
   "toc_cell": false,
   "toc_position": {},
   "toc_section_display": true,
   "toc_window_display": false
  }
 },
 "nbformat": 4,
 "nbformat_minor": 5
}
