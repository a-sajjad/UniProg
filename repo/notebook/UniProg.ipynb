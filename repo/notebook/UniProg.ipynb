{
 "cells": [
  {
   "cell_type": "code",
   "execution_count": 1,
   "id": "d720aa58-431b-4cc3-81f4-ef94c91fa23e",
   "metadata": {
    "tags": []
   },
   "outputs": [],
   "source": [
    "course_columns = ['id', 'name', 'category', 'credits', 'taken', 'grade']"
   ]
  },
  {
   "cell_type": "code",
   "execution_count": 2,
   "id": "faadf10f-bebe-4e71-a9df-3dd6d60c0fac",
   "metadata": {
    "tags": []
   },
   "outputs": [],
   "source": [
    "course_data = ['ITC 315', 'Software Engineering', 'Concentration', 3, 'True', 'A']"
   ]
  },
  {
   "cell_type": "code",
   "execution_count": 3,
   "id": "d9c0228d-a876-4381-aba6-a9641bacf564",
   "metadata": {
    "tags": []
   },
   "outputs": [],
   "source": [
    "degreeplan_columns = ['major', 'year', 'conc', 'credits', 'courses', 'gen_credits', 'core_credits', 'conc_credits']"
   ]
  },
  {
   "cell_type": "code",
   "execution_count": 4,
   "id": "25aed9d5-abdc-4aba-99f6-844e1f136f04",
   "metadata": {
    "tags": []
   },
   "outputs": [],
   "source": [
    "degreeplan_data = ['Information Technology', '2018', 'Software Engineering', 120, 40, 60, 51, 9]"
   ]
  },
  {
   "cell_type": "code",
   "execution_count": 5,
   "id": "718d0ef2-6588-4f9d-98de-c69880c002e6",
   "metadata": {},
   "outputs": [],
   "source": [
    "student_columns = ['id', 'name', 'lastname', 'email', 'username', 'password', 'advisor', 'advisor_email']"
   ]
  },
  {
   "cell_type": "code",
   "execution_count": 14,
   "id": "1305c963-0103-419e-b8b3-ca5314806cab",
   "metadata": {},
   "outputs": [],
   "source": [
    "import pathlib\n",
    "from dataclasses import dataclass, field\n",
    "\n",
    "import pandas as pd\n",
    "\n",
    "\n",
    "@dataclass(order=True)\n",
    "class CSVFile:\n",
    "    index: str\n",
    "    file: str\n",
    "    columns: list[str] = field(default_factory=list)\n",
    "\n",
    "    def __post_init__(self):\n",
    "        if pathlib.Path(f'{self.file}.csv').exists():\n",
    "            pass\n",
    "        else:\n",
    "            self.save(self.columns_df)\n",
    "\n",
    "    @property\n",
    "    def columns_df(self):\n",
    "        return pd.DataFrame(columns=self.columns).set_index(self.index)\n",
    "\n",
    "    def make_series(self, row):\n",
    "        series_dict = dict(zip(self.columns, row))\n",
    "        return pd.Series(series_dict, name=series_dict[self.index]).drop(labels=self.index)\n",
    "\n",
    "    def read(self):\n",
    "        return pd.read_csv(f'{self.file}.csv', index_col=self.index)\n",
    "\n",
    "    def save(self, indexed_df):\n",
    "        indexed_df.to_csv(f'{self.file}.csv')\n",
    "\n",
    "    def drop(self, name):\n",
    "        df = self.read()\n",
    "        if name in df.index:\n",
    "            self.save(df.drop(name))\n",
    "\n",
    "    def insert(self, row):\n",
    "        series = self.make_series(row)\n",
    "        df = self.read()\n",
    "        if series.name in df.index:\n",
    "            df = df.drop(series.name)\n",
    "            self.save(df.append(series))\n",
    "        else:\n",
    "            self.save(df.append(series))\n",
    "            \n",
    "    def update(self, row, old_index):\n",
    "        self.insert(row)\n",
    "        self.drop(old_index)\n",
    "            \n",
    "    def get(self, index, column):\n",
    "        return str(self.read().loc[index][f'{column}'])"
   ]
  },
  {
   "cell_type": "code",
   "execution_count": 15,
   "id": "97bfc7cc-11db-45c0-8629-08e602a4d011",
   "metadata": {},
   "outputs": [],
   "source": [
    "student = CSVFile(index='id', file='student', columns=student_columns)"
   ]
  },
  {
   "cell_type": "code",
   "execution_count": 18,
   "id": "20d8c7a1-0f01-4c15-8059-1fbe327d2de8",
   "metadata": {},
   "outputs": [],
   "source": [
    "student1 = [38788, 'A', 'B', 'a@gmail.com', 'eyePatchA', 'eyePatch1', 'AB', 'ab@gmail.com']\n",
    "student2 = [40048, 'B', 'C', 'b@gmail.com', 'eyePatchB', 'eyePatch2', 'BC', 'bc@gmail.com']\n",
    "student3 = [48400, 'C', 'D', 'c@gmail.com', 'eyePatchC', 'eyePatch3', 'CD', 'cd@gmail.com']\n",
    "student4 = [38786, 'D', 'E', 'd@gmail.com', 'eyePatchD', 'eyePatch4', 'DE', 'de@gmail.com']\n",
    "student5 = [38789, 'E', 'F', 'e@gmail.com', 'eyePatchE', 'eyePatch5', 'EF', 'ef@gmail.com']"
   ]
  },
  {
   "cell_type": "code",
   "execution_count": 17,
   "id": "5a0b2f97-937f-48a1-a174-49426231e51b",
   "metadata": {},
   "outputs": [
    {
     "data": {
      "text/html": [
       "<div>\n",
       "<style scoped>\n",
       "    .dataframe tbody tr th:only-of-type {\n",
       "        vertical-align: middle;\n",
       "    }\n",
       "\n",
       "    .dataframe tbody tr th {\n",
       "        vertical-align: top;\n",
       "    }\n",
       "\n",
       "    .dataframe thead th {\n",
       "        text-align: right;\n",
       "    }\n",
       "</style>\n",
       "<table border=\"1\" class=\"dataframe\">\n",
       "  <thead>\n",
       "    <tr style=\"text-align: right;\">\n",
       "      <th></th>\n",
       "      <th>name</th>\n",
       "      <th>lastname</th>\n",
       "      <th>email</th>\n",
       "      <th>username</th>\n",
       "      <th>password</th>\n",
       "      <th>advisor</th>\n",
       "      <th>advisor_email</th>\n",
       "    </tr>\n",
       "    <tr>\n",
       "      <th>id</th>\n",
       "      <th></th>\n",
       "      <th></th>\n",
       "      <th></th>\n",
       "      <th></th>\n",
       "      <th></th>\n",
       "      <th></th>\n",
       "      <th></th>\n",
       "    </tr>\n",
       "  </thead>\n",
       "  <tbody>\n",
       "    <tr>\n",
       "      <th>40048</th>\n",
       "      <td>B</td>\n",
       "      <td>C</td>\n",
       "      <td>b@gmail.com</td>\n",
       "      <td>eyePatchB</td>\n",
       "      <td>eyePatch2</td>\n",
       "      <td>BC</td>\n",
       "      <td>bc@gmail.com</td>\n",
       "    </tr>\n",
       "    <tr>\n",
       "      <th>48400</th>\n",
       "      <td>C</td>\n",
       "      <td>D</td>\n",
       "      <td>c@gmail.com</td>\n",
       "      <td>eyePatchC</td>\n",
       "      <td>eyePatch3</td>\n",
       "      <td>CD</td>\n",
       "      <td>cd@gmail.com</td>\n",
       "    </tr>\n",
       "    <tr>\n",
       "      <th>38786</th>\n",
       "      <td>D</td>\n",
       "      <td>E</td>\n",
       "      <td>d@gmail.com</td>\n",
       "      <td>eyePatchD</td>\n",
       "      <td>eyePatch4</td>\n",
       "      <td>DE</td>\n",
       "      <td>de@gmail.com</td>\n",
       "    </tr>\n",
       "    <tr>\n",
       "      <th>38788</th>\n",
       "      <td>E</td>\n",
       "      <td>F</td>\n",
       "      <td>e@gmail.com</td>\n",
       "      <td>eyePatchE</td>\n",
       "      <td>eyePatch5</td>\n",
       "      <td>EF</td>\n",
       "      <td>ef@gmail.com</td>\n",
       "    </tr>\n",
       "  </tbody>\n",
       "</table>\n",
       "</div>"
      ],
      "text/plain": [
       "      name lastname        email   username   password advisor advisor_email\n",
       "id                                                                          \n",
       "40048    B        C  b@gmail.com  eyePatchB  eyePatch2      BC  bc@gmail.com\n",
       "48400    C        D  c@gmail.com  eyePatchC  eyePatch3      CD  cd@gmail.com\n",
       "38786    D        E  d@gmail.com  eyePatchD  eyePatch4      DE  de@gmail.com\n",
       "38788    E        F  e@gmail.com  eyePatchE  eyePatch5      EF  ef@gmail.com"
      ]
     },
     "execution_count": 17,
     "metadata": {},
     "output_type": "execute_result"
    }
   ],
   "source": [
    "student.insert(student1)\n",
    "student.insert(student2)\n",
    "student.insert(student3)\n",
    "student.insert(student4)\n",
    "student.insert(student5)\n",
    "student.read()"
   ]
  },
  {
   "cell_type": "code",
   "execution_count": 19,
   "id": "4d181cd0-b5ab-4858-a31a-50f74f2050ac",
   "metadata": {},
   "outputs": [
    {
     "data": {
      "text/html": [
       "<div>\n",
       "<style scoped>\n",
       "    .dataframe tbody tr th:only-of-type {\n",
       "        vertical-align: middle;\n",
       "    }\n",
       "\n",
       "    .dataframe tbody tr th {\n",
       "        vertical-align: top;\n",
       "    }\n",
       "\n",
       "    .dataframe thead th {\n",
       "        text-align: right;\n",
       "    }\n",
       "</style>\n",
       "<table border=\"1\" class=\"dataframe\">\n",
       "  <thead>\n",
       "    <tr style=\"text-align: right;\">\n",
       "      <th></th>\n",
       "      <th>name</th>\n",
       "      <th>lastname</th>\n",
       "      <th>email</th>\n",
       "      <th>username</th>\n",
       "      <th>password</th>\n",
       "      <th>advisor</th>\n",
       "      <th>advisor_email</th>\n",
       "    </tr>\n",
       "    <tr>\n",
       "      <th>id</th>\n",
       "      <th></th>\n",
       "      <th></th>\n",
       "      <th></th>\n",
       "      <th></th>\n",
       "      <th></th>\n",
       "      <th></th>\n",
       "      <th></th>\n",
       "    </tr>\n",
       "  </thead>\n",
       "  <tbody>\n",
       "    <tr>\n",
       "      <th>40048</th>\n",
       "      <td>B</td>\n",
       "      <td>C</td>\n",
       "      <td>b@gmail.com</td>\n",
       "      <td>eyePatchB</td>\n",
       "      <td>eyePatch2</td>\n",
       "      <td>BC</td>\n",
       "      <td>bc@gmail.com</td>\n",
       "    </tr>\n",
       "    <tr>\n",
       "      <th>48400</th>\n",
       "      <td>C</td>\n",
       "      <td>D</td>\n",
       "      <td>c@gmail.com</td>\n",
       "      <td>eyePatchC</td>\n",
       "      <td>eyePatch3</td>\n",
       "      <td>CD</td>\n",
       "      <td>cd@gmail.com</td>\n",
       "    </tr>\n",
       "    <tr>\n",
       "      <th>38788</th>\n",
       "      <td>E</td>\n",
       "      <td>F</td>\n",
       "      <td>e@gmail.com</td>\n",
       "      <td>eyePatchE</td>\n",
       "      <td>eyePatch5</td>\n",
       "      <td>EF</td>\n",
       "      <td>ef@gmail.com</td>\n",
       "    </tr>\n",
       "    <tr>\n",
       "      <th>38789</th>\n",
       "      <td>E</td>\n",
       "      <td>F</td>\n",
       "      <td>e@gmail.com</td>\n",
       "      <td>eyePatchE</td>\n",
       "      <td>eyePatch5</td>\n",
       "      <td>EF</td>\n",
       "      <td>ef@gmail.com</td>\n",
       "    </tr>\n",
       "  </tbody>\n",
       "</table>\n",
       "</div>"
      ],
      "text/plain": [
       "      name lastname        email   username   password advisor advisor_email\n",
       "id                                                                          \n",
       "40048    B        C  b@gmail.com  eyePatchB  eyePatch2      BC  bc@gmail.com\n",
       "48400    C        D  c@gmail.com  eyePatchC  eyePatch3      CD  cd@gmail.com\n",
       "38788    E        F  e@gmail.com  eyePatchE  eyePatch5      EF  ef@gmail.com\n",
       "38789    E        F  e@gmail.com  eyePatchE  eyePatch5      EF  ef@gmail.com"
      ]
     },
     "execution_count": 19,
     "metadata": {},
     "output_type": "execute_result"
    }
   ],
   "source": [
    "student.update(student5, 38786)\n",
    "student.read()"
   ]
  },
  {
   "cell_type": "code",
   "execution_count": 11,
   "id": "0080fc2e-3176-4988-932f-a817f5729792",
   "metadata": {},
   "outputs": [
    {
     "data": {
      "text/html": [
       "<div>\n",
       "<style scoped>\n",
       "    .dataframe tbody tr th:only-of-type {\n",
       "        vertical-align: middle;\n",
       "    }\n",
       "\n",
       "    .dataframe tbody tr th {\n",
       "        vertical-align: top;\n",
       "    }\n",
       "\n",
       "    .dataframe thead th {\n",
       "        text-align: right;\n",
       "    }\n",
       "</style>\n",
       "<table border=\"1\" class=\"dataframe\">\n",
       "  <thead>\n",
       "    <tr style=\"text-align: right;\">\n",
       "      <th></th>\n",
       "      <th>name</th>\n",
       "      <th>lastname</th>\n",
       "      <th>email</th>\n",
       "      <th>username</th>\n",
       "      <th>password</th>\n",
       "      <th>advisor</th>\n",
       "      <th>advisor_email</th>\n",
       "    </tr>\n",
       "    <tr>\n",
       "      <th>id</th>\n",
       "      <th></th>\n",
       "      <th></th>\n",
       "      <th></th>\n",
       "      <th></th>\n",
       "      <th></th>\n",
       "      <th></th>\n",
       "      <th></th>\n",
       "    </tr>\n",
       "  </thead>\n",
       "  <tbody>\n",
       "    <tr>\n",
       "      <th>40048</th>\n",
       "      <td>B</td>\n",
       "      <td>C</td>\n",
       "      <td>b@gmail.com</td>\n",
       "      <td>eyePatchB</td>\n",
       "      <td>eyePatch2</td>\n",
       "      <td>BC</td>\n",
       "      <td>bc@gmail.com</td>\n",
       "    </tr>\n",
       "    <tr>\n",
       "      <th>48400</th>\n",
       "      <td>C</td>\n",
       "      <td>D</td>\n",
       "      <td>c@gmail.com</td>\n",
       "      <td>eyePatchC</td>\n",
       "      <td>eyePatch3</td>\n",
       "      <td>CD</td>\n",
       "      <td>cd@gmail.com</td>\n",
       "    </tr>\n",
       "    <tr>\n",
       "      <th>38786</th>\n",
       "      <td>D</td>\n",
       "      <td>E</td>\n",
       "      <td>d@gmail.com</td>\n",
       "      <td>eyePatchD</td>\n",
       "      <td>eyePatch4</td>\n",
       "      <td>DE</td>\n",
       "      <td>de@gmail.com</td>\n",
       "    </tr>\n",
       "    <tr>\n",
       "      <th>38788</th>\n",
       "      <td>E</td>\n",
       "      <td>F</td>\n",
       "      <td>e@gmail.com</td>\n",
       "      <td>eyePatchE</td>\n",
       "      <td>eyePatch5</td>\n",
       "      <td>EF</td>\n",
       "      <td>ef@gmail.com</td>\n",
       "    </tr>\n",
       "  </tbody>\n",
       "</table>\n",
       "</div>"
      ],
      "text/plain": [
       "      name lastname        email   username   password advisor advisor_email\n",
       "id                                                                          \n",
       "40048    B        C  b@gmail.com  eyePatchB  eyePatch2      BC  bc@gmail.com\n",
       "48400    C        D  c@gmail.com  eyePatchC  eyePatch3      CD  cd@gmail.com\n",
       "38786    D        E  d@gmail.com  eyePatchD  eyePatch4      DE  de@gmail.com\n",
       "38788    E        F  e@gmail.com  eyePatchE  eyePatch5      EF  ef@gmail.com"
      ]
     },
     "execution_count": 11,
     "metadata": {},
     "output_type": "execute_result"
    }
   ],
   "source": [
    "student_df = pd.DataFrame(student.read(), columns=student.columns[1:])\n",
    "student_df"
   ]
  },
  {
   "cell_type": "code",
   "execution_count": 12,
   "id": "2a6f6229-8b7e-40c8-97aa-7de10a605f8b",
   "metadata": {},
   "outputs": [
    {
     "data": {
      "text/plain": [
       "'D'"
      ]
     },
     "execution_count": 12,
     "metadata": {},
     "output_type": "execute_result"
    }
   ],
   "source": [
    "student.get(38786, 'name')"
   ]
  }
 ],
 "metadata": {
  "kernelspec": {
   "display_name": "Python 3",
   "language": "python",
   "name": "python3"
  },
  "language_info": {
   "codemirror_mode": {
    "name": "ipython",
    "version": 3
   },
   "file_extension": ".py",
   "mimetype": "text/x-python",
   "name": "python",
   "nbconvert_exporter": "python",
   "pygments_lexer": "ipython3",
   "version": "3.9.4"
  },
  "toc": {
   "base_numbering": 1,
   "nav_menu": {},
   "number_sections": true,
   "sideBar": true,
   "skip_h1_title": false,
   "title_cell": "Table of Contents",
   "title_sidebar": "Contents",
   "toc_cell": false,
   "toc_position": {},
   "toc_section_display": true,
   "toc_window_display": false
  }
 },
 "nbformat": 4,
 "nbformat_minor": 5
}
